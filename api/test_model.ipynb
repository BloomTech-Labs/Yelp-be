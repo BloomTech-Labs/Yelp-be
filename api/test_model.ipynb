{
 "cells": [
  {
   "cell_type": "code",
   "execution_count": 1,
   "metadata": {},
   "outputs": [],
   "source": [
    "import tarfile\n",
    "import os\n",
    "\n",
    "import numpy as np\n",
    "import boto3\n",
    "from transformers import AutoTokenizer, TFAutoModelForSequenceClassification"
   ]
  },
  {
   "cell_type": "code",
   "execution_count": 2,
   "metadata": {},
   "outputs": [],
   "source": [
    "spencer = boto3.session.Session(profile_name='spencer')"
   ]
  },
  {
   "cell_type": "code",
   "execution_count": 3,
   "metadata": {},
   "outputs": [
    {
     "data": {
      "text/plain": [
       "'652081700929'"
      ]
     },
     "execution_count": 3,
     "metadata": {},
     "output_type": "execute_result"
    }
   ],
   "source": [
    "spencer.client('sts').get_caller_identity().get('Account')"
   ]
  },
  {
   "cell_type": "code",
   "execution_count": 4,
   "metadata": {},
   "outputs": [
    {
     "data": {
      "text/plain": [
       "'756586798028'"
      ]
     },
     "execution_count": 4,
     "metadata": {},
     "output_type": "execute_result"
    }
   ],
   "source": [
    "boto3.client('sts').get_caller_identity().get('Account')"
   ]
  },
  {
   "cell_type": "code",
   "execution_count": 5,
   "metadata": {},
   "outputs": [],
   "source": [
    "spencer_s3 = spencer.client(\"s3\")"
   ]
  },
  {
   "cell_type": "code",
   "execution_count": null,
   "metadata": {},
   "outputs": [],
   "source": [
    "spencer_s3.download_file('sagemaker-us-east-1-652081700929', \"final-distilbert-regression-800k-2020-06-15-07-04-51-437/output/model.tar.gz\", \"model.tar.gz\")"
   ]
  },
  {
   "cell_type": "code",
   "execution_count": null,
   "metadata": {},
   "outputs": [],
   "source": [
    "with tarfile.open(\"model.tar.gz\", \"r:gz\") as tar:\n",
    "    tar.extractall(path=\"model\")"
   ]
  },
  {
   "cell_type": "code",
   "execution_count": null,
   "metadata": {},
   "outputs": [],
   "source": [
    "# os.remove(\"model.tar.gz\")"
   ]
  },
  {
   "cell_type": "code",
   "execution_count": 6,
   "metadata": {},
   "outputs": [],
   "source": [
    "tokenizer = AutoTokenizer.from_pretrained('distilbert-base-uncased', use_fast=True)\n",
    "model = TFAutoModelForSequenceClassification.from_pretrained(\"model\")"
   ]
  },
  {
   "cell_type": "code",
   "execution_count": 7,
   "metadata": {},
   "outputs": [],
   "source": [
    "text = \"this place is amazing!\""
   ]
  },
  {
   "cell_type": "code",
   "execution_count": 27,
   "metadata": {},
   "outputs": [],
   "source": [
    "def predict(text):\n",
    "    return model(tokenizer.encode(text, return_tensors='tf', max_length=512))[0].numpy()[0][0]\n",
    "\n",
    "def scale(pred):\n",
    "    return (pred - 1) * .25\n",
    "\n",
    "def squish(scaled):\n",
    "    return np.clip(scaled, 0, 1)\n",
    "\n",
    "def pred_scale_and_squish(text):\n",
    "    pred = predict(text)\n",
    "    scaled = scale(pred)\n",
    "    squished = squish(scaled)\n",
    "    \n",
    "    return pred, scaled, squished"
   ]
  },
  {
   "cell_type": "code",
   "execution_count": 28,
   "metadata": {},
   "outputs": [
    {
     "data": {
      "text/plain": [
       "5.074088"
      ]
     },
     "execution_count": 28,
     "metadata": {},
     "output_type": "execute_result"
    }
   ],
   "source": [
    "predict(text)"
   ]
  },
  {
   "cell_type": "code",
   "execution_count": 40,
   "metadata": {},
   "outputs": [],
   "source": [
    "bad_text = \"this place is the worst!!!\""
   ]
  },
  {
   "cell_type": "code",
   "execution_count": 41,
   "metadata": {},
   "outputs": [
    {
     "data": {
      "text/plain": [
       "1.004437"
      ]
     },
     "execution_count": 41,
     "metadata": {},
     "output_type": "execute_result"
    }
   ],
   "source": [
    "predict(bad_text)"
   ]
  },
  {
   "cell_type": "code",
   "execution_count": 31,
   "metadata": {},
   "outputs": [
    {
     "name": "stdout",
     "output_type": "stream",
     "text": [
      "101 ms ± 9.94 ms per loop (mean ± std. dev. of 7 runs, 10 loops each)\n"
     ]
    }
   ],
   "source": [
    "%%timeit\n",
    "predict(text)"
   ]
  },
  {
   "cell_type": "code",
   "execution_count": 11,
   "metadata": {},
   "outputs": [],
   "source": [
    "s3 = boto3.client(\"s3\")"
   ]
  },
  {
   "cell_type": "code",
   "execution_count": null,
   "metadata": {},
   "outputs": [],
   "source": [
    "s3.upload_file(Filename='model.tar.gz', Bucket='yelpsense', Key='models/sentiment/distilbert/regression/model.tar.gz')"
   ]
  },
  {
   "cell_type": "code",
   "execution_count": 32,
   "metadata": {},
   "outputs": [
    {
     "data": {
      "text/plain": [
       "(5.074088, 1.018522024154663, 1.0)"
      ]
     },
     "execution_count": 32,
     "metadata": {},
     "output_type": "execute_result"
    }
   ],
   "source": [
    "pred_scale_and_squish(text)"
   ]
  },
  {
   "cell_type": "code",
   "execution_count": 42,
   "metadata": {},
   "outputs": [
    {
     "data": {
      "text/plain": [
       "(1.004437, 0.0011092424392700195, 0.0011092424392700195)"
      ]
     },
     "execution_count": 42,
     "metadata": {},
     "output_type": "execute_result"
    }
   ],
   "source": [
    "pred_scale_and_squish(bad_text)"
   ]
  },
  {
   "cell_type": "code",
   "execution_count": 11,
   "metadata": {},
   "outputs": [],
   "source": [
    "text = \"this place is kinda good\""
   ]
  },
  {
   "cell_type": "code",
   "execution_count": 12,
   "metadata": {},
   "outputs": [
    {
     "data": {
      "text/plain": [
       "(3.8772535, 0.7754507064819336, 0.6938626766204834)"
      ]
     },
     "execution_count": 12,
     "metadata": {},
     "output_type": "execute_result"
    }
   ],
   "source": [
    "pred_scale_and_squish(text)"
   ]
  },
  {
   "cell_type": "code",
   "execution_count": 13,
   "metadata": {},
   "outputs": [
    {
     "data": {
      "text/plain": [
       "1.0"
      ]
     },
     "execution_count": 13,
     "metadata": {},
     "output_type": "execute_result"
    }
   ],
   "source": [
    "squish(3.8772535)"
   ]
  },
  {
   "cell_type": "code",
   "execution_count": 16,
   "metadata": {},
   "outputs": [],
   "source": [
    "tokenizer2 = AutoTokenizer.from_pretrained(\n",
    "    'distilbert-base-uncased', use_fast=True)\n",
    "model2 = TFAutoModelForSequenceClassification.from_pretrained(\n",
    "    \"spentaur/yelp\")\n"
   ]
  },
  {
   "cell_type": "code",
   "execution_count": 17,
   "metadata": {},
   "outputs": [],
   "source": [
    "def predict2(text):\n",
    "    return model2(tokenizer2.encode(text, return_tensors='tf', max_length=512))[0].numpy()[0][0]"
   ]
  },
  {
   "cell_type": "code",
   "execution_count": 43,
   "metadata": {},
   "outputs": [
    {
     "name": "stdout",
     "output_type": "stream",
     "text": [
      "100 ms ± 6.57 ms per loop (mean ± std. dev. of 7 runs, 1 loop each)\n"
     ]
    }
   ],
   "source": [
    "%%timeit\n",
    "predict2(text)"
   ]
  },
  {
   "cell_type": "code",
   "execution_count": 44,
   "metadata": {},
   "outputs": [
    {
     "name": "stdout",
     "output_type": "stream",
     "text": [
      "102 ms ± 9.73 ms per loop (mean ± std. dev. of 7 runs, 10 loops each)\n"
     ]
    }
   ],
   "source": [
    "%%timeit\n",
    "predict2(text)"
   ]
  },
  {
   "cell_type": "code",
   "execution_count": 45,
   "metadata": {},
   "outputs": [
    {
     "name": "stdout",
     "output_type": "stream",
     "text": [
      "95.8 ms ± 3.59 ms per loop (mean ± std. dev. of 7 runs, 10 loops each)\n"
     ]
    }
   ],
   "source": [
    "%%timeit\n",
    "predict(text)"
   ]
  },
  {
   "cell_type": "code",
   "execution_count": 20,
   "metadata": {},
   "outputs": [
    {
     "data": {
      "text/plain": [
       "1.0"
      ]
     },
     "execution_count": 20,
     "metadata": {},
     "output_type": "execute_result"
    }
   ],
   "source": [
    "squish(predict2(text))"
   ]
  },
  {
   "cell_type": "code",
   "execution_count": 46,
   "metadata": {},
   "outputs": [
    {
     "data": {
      "text/plain": [
       "(2.997344, 0.49933600425720215, 0.49933600425720215)"
      ]
     },
     "execution_count": 46,
     "metadata": {},
     "output_type": "execute_result"
    }
   ],
   "source": [
    "pred_scale_and_squish(\"alright\")"
   ]
  },
  {
   "cell_type": "code",
   "execution_count": 7,
   "metadata": {},
   "outputs": [],
   "source": [
    "review = \"\"\"This restaurant is one of the bests in Champaign. Coming from the NYC/Philly/Princeton area, Ive found few places that really mimic the food quality and scene. There chicken sandwiches are great, especially the Nashville hot. The sauces are great too, I really like the honey chili sauce. On Tuesdays they have Tacos as specials and there chicken taco is amazing! There appetizers are also tasty, my favorite is the Brussels sprouts. I wish they would add it to there regular menu. Its so fresh and very flavorful. As a plus, they also have non-alcoholic mock tails for everyone.\n",
    "This restaurant is one of the bests in Champaign. Coming from the NYC/Philly/Princeton area, Ive found few places that really mimic the food quality and scene. There chicken sandwiches are great, especially the Nashville hot. The sauces are great too, I really like the honey chili sauce. On Tuesdays they have Tacos as specials and there chicken taco is amazing! There appetizers are also tasty, my favorite is the Brussels sprouts. I wish they would add it to there regular menu. Its so fresh and very flavorful. As a plus, they also have non-alcoholic mock tails for everyone.\n",
    "This restaurant is one of the bests in Champaign. Coming from the NYC/Philly/Princeton area, Ive found few places that really mimic the food quality and scene. There chicken sandwiches are great, especially the Nashville hot. The sauces are great too, I really like the honey chili sauce. On Tuesdays they have Tacos as specials and there chicken taco is amazing! There appetizers are also tasty, my favorite is the Brussels sprouts. I wish they would add it to there regular menu. Its so fresh and very flavorful. As a plus, they also have non-alcoholic mock tails for everyone.\n",
    "This restaurant is one of the bests in Champaign. Coming from the NYC/Philly/Princeton area, Ive found few places that really mimic the food quality and scene. There chicken sandwiches are great, especially the Nashville hot. The sauces are great too, I really like the honey chili sauce. On Tuesdays they have Tacos as specials and there chicken taco is amazing! There appetizers are also tasty, my favorite is the Brussels sprouts. I wish they would add it to there regular menu. Its so fresh and very flavorful. As a plus, they also have non-alcoholic mock tails for everyone.\n",
    "This restaurant is one of the bests in Champaign. Coming from the NYC/Philly/Princeton area, Ive found few places that really mimic the food quality and scene. There chicken sandwiches are great, especially the Nashville hot. The sauces are great too, I really like the honey chili sauce. On Tuesdays they have Tacos as specials and there chicken taco is amazing! There appetizers are also tasty, my favorite is the Brussels sprouts. I wish they would add it to there regular menu. Its so fresh and very flavorful. As a plus, they also have non-alcoholic mock tails for everyone.\n",
    "This restaurant is one of the bests in Champaign. Coming from the NYC/Philly/Princeton area, Ive found few places that really mimic the food quality and scene. There chicken sandwiches are great, especially the Nashville hot. The sauces are great too, I really like the honey chili sauce. On Tuesdays they have Tacos as specials and there chicken taco is amazing! There appetizers are also tasty, my favorite is the Brussels sprouts. I wish they would add it to there regular menu. Its so fresh and very flavorful. As a plus, they also have non-alcoholic mock tails for everyone.\n",
    "This restaurant is one of the bests in Champaign. Coming from the NYC/Philly/Princeton area, Ive found few places that really mimic the food quality and scene. There chicken sandwiches are great, especially the Nashville hot. The sauces are great too, I really like the honey chili sauce. On Tuesdays they have Tacos as specials and there chicken taco is amazing! There appetizers are also tasty, my favorite is the Brussels sprouts. I wish they would add it to there regular menu. Its so fresh and very flavorful. As a plus, they also have non-alcoholic mock tails for everyone.\n",
    "This restaurant is one of the bests in Champaign. Coming from the NYC/Philly/Princeton area, Ive found few places that really mimic the food quality and scene. There chicken sandwiches are great, especially the Nashville hot. The sauces are great too, I really like the honey chili sauce. On Tuesdays they have Tacos as specials and there chicken taco is amazing! There appetizers are also tasty, my favorite is the Brussels sprouts. I wish they would add it to there regular menu. Its so fresh and very flavorful. As a plus, they also have non-alcoholic mock tails for everyone.\n",
    "This restaurant is one of the bests in Champaign. Coming from the NYC/Philly/Princeton area, Ive found few places that really mimic the food quality and scene. There chicken sandwiches are great, especially the Nashville hot. The sauces are great too, I really like the honey chili sauce. On Tuesdays they have Tacos as specials and there chicken taco is amazing! There appetizers are also tasty, my favorite is the Brussels sprouts. I wish they would add it to there regular menu. Its so fresh and very flavorful. As a plus, they also have non-alcoholic mock tails for everyone.This restaurant is one of the bests in Champaign. Coming from the NYC/Philly/Princeton area, Ive found few places that really mimic the food quality and scene. There chicken sandwiches are great, especially the Nashville hot. The sauces are great too, I really like the honey chili sauce. On Tuesdays they have Tacos as specials and there chicken taco is amazing! There appetizers are also tasty, my favorite is the Brussels sprouts. I wish they would add it to there regular menu. Its so fresh and very flavorful. As a plus, they also have non-alcoholic mock tails for everyone.\n",
    "This restaurant is one of the bests in Champaign. Coming from the NYC/Philly/Princeton area, Ive found few places that really mimic the food quality and scene. There chicken sandwiches are great, especially the Nashville hot. The sauces are great too, I really like the honey chili sauce. On Tuesdays they have Tacos as specials and there chicken taco is amazing! There appetizers are also tasty, my favorite is the Brussels sprouts. I wish they would add it to there regular menu. Its so fresh and very flavorful. As a plus, they also have non-alcoholic mock tails for everyone.\n",
    "This restaurant is one of the bests in Champaign. Coming from the NYC/Philly/Princeton area, Ive found few places that really mimic the food quality and scene. There chicken sandwiches are great, especially the Nashville hot. The sauces are great too, I really like the honey chili sauce. On Tuesdays they have Tacos as specials and there chicken taco is amazing! There appetizers are also tasty, my favorite is the Brussels sprouts. I wish they would add it to there regular menu. Its so fresh and very flavorful. As a plus, they also have non-alcoholic mock tails for everyone.\n",
    "This restaurant is one of the bests in Champaign. Coming from the NYC/Philly/Princeton area, Ive found few places that really mimic the food quality and scene. There chicken sandwiches are great, especially the Nashville hot. The sauces are great too, I really like the honey chili sauce. On Tuesdays they have Tacos as specials and there chicken taco is amazing! There appetizers are also tasty, my favorite is the Brussels sprouts. I wish they would add it to there regular menu. Its so fresh and very flavorful. As a plus, they also have non-alcoholic mock tails for everyone.\n",
    "This restaurant is one of the bests in Champaign. Coming from the NYC/Philly/Princeton area, Ive found few places that really mimic the food quality and scene. There chicken sandwiches are great, especially the Nashville hot. The sauces are great too, I really like the honey chili sauce. On Tuesdays they have Tacos as specials and there chicken taco is amazing! There appetizers are also tasty, my favorite is the Brussels sprouts. I wish they would add it to there regular menu. Its so fresh and very flavorful. As a plus, they also have non-alcoholic mock tails for everyone.\n",
    "This restaurant is one of the bests in Champaign. Coming from the NYC/Philly/Princeton area, Ive found few places that really mimic the food quality and scene. There chicken sandwiches are great, especially the Nashville hot. The sauces are great too, I really like the honey chili sauce. On Tuesdays they have Tacos as specials and there chicken taco is amazing! There appetizers are also tasty, my favorite is the Brussels sprouts. I wish they would add it to there regular menu. Its so fresh and very flavorful. As a plus, they also have non-alcoholic mock tails for everyone.\n",
    "This restaurant is one of the bests in Champaign. Coming from the NYC/Philly/Princeton area, Ive found few places that really mimic the food quality and scene. There chicken sandwiches are great, especially the Nashville hot. The sauces are great too, I really like the honey chili sauce. On Tuesdays they have Tacos as specials and there chicken taco is amazing! There appetizers are also tasty, my favorite is the Brussels sprouts. I wish they would add it to there regular menu. Its so fresh and very flavorful. As a plus, they also have non-alcoholic mock tails for everyone.\n",
    "This restaurant is one of the bests in Champaign. Coming from the NYC/Philly/Princeton area, Ive found few places that really mimic the food quality and scene. There chicken sandwiches are great, especially the Nashville hot. The sauces are great too, I really like the honey chili sauce. On Tuesdays they have Tacos as specials and there chicken taco is amazing! There appetizers are also tasty, my favorite is the Brussels sprouts. I wish they would add it to there regular menu. Its so fresh and very flavorful. As a plus, they also have non-alcoholic mock tails for everyone.\n",
    "This restaurant is one of the bests in Champaign. Coming from the NYC/Philly/Princeton area, Ive found few places that really mimic the food quality and scene. There chicken sandwiches are great, especially the Nashville hot. The sauces are great too, I really like the honey chili sauce. On Tuesdays they have Tacos as specials and there chicken taco is amazing! There appetizers are also tasty, my favorite is the Brussels sprouts. I wish they would add it to there regular menu. Its so fresh and very flavorful. As a plus, they also have non-alcoholic mock tails for everyone.\n",
    "This restaurant is one of the bests in Champaign. Coming from the NYC/Philly/Princeton area, Ive found few places that really mimic the food quality and scene. There chicken sandwiches are great, especially the Nashville hot. The sauces are great too, I really like the honey chili sauce. On Tuesdays they have Tacos as specials and there chicken taco is amazing! There appetizers are also tasty, my favorite is the Brussels sprouts. I wish they would add it to there regular menu. Its so fresh and very flavorful. As a plus, they also have non-alcoholic mock tails for everyone.\n",
    "This restaurant is one of the bests in Champaign. Coming from the NYC/Philly/Princeton area, Ive found few places that really mimic the food quality and scene. There chicken sandwiches are great, especially the Nashville hot. The sauces are great too, I really like the honey chili sauce. On Tuesdays they have Tacos as specials and there chicken taco is amazing! There appetizers are also tasty, my favorite is the Brussels sprouts. I wish they would add it to there regular menu. Its so fresh and very flavorful. As a plus, they also have non-alcoholic mock tails for everyone.\n",
    "This restaurant is one of the bests in Champaign. Coming from the NYC/Philly/Princeton area, Ive found few places that really mimic the food quality and scene. There chicken sandwiches are great, especially the Nashville hot. The sauces are great too, I really like the honey chili sauce. On Tuesdays they have Tacos as specials and there chicken taco is amazing! There appetizers are also tasty, my favorite is the Brussels sprouts. I wish they would add it to there regular menu. Its so fresh and very flavorful. As a plus, they also have non-alcoholic mock tails for everyone.\n",
    "This restaurant is one of the bests in Champaign. Coming from the NYC/Philly/Princeton area, Ive found few places that really mimic the food quality and scene. There chicken sandwiches are great, especially the Nashville hot. The sauces are great too, I really like the honey chili sauce. On Tuesdays they have Tacos as specials and there chicken taco is amazing! There appetizers are also tasty, my favorite is the Brussels sprouts. I wish they would add it to there regular menu. Its so fresh and very flavorful. As a plus, they also have non-alcoholic mock tails for everyone.\n",
    "This restaurant is one of the bests in Champaign. Coming from the NYC/Philly/Princeton area, Ive found few places that really mimic the food quality and scene. There chicken sandwiches are great, especially the Nashville hot. The sauces are great too, I really like the honey chili sauce. On Tuesdays they have Tacos as specials and there chicken taco is amazing! There appetizers are also tasty, my favorite is the Brussels sprouts. I wish they would add it to there regular menu. Its so fresh and very flavorful. As a plus, they also have non-alcoholic mock tails for everyone.\n",
    "This restaurant is one of the bests in Champaign. Coming from the NYC/Philly/Princeton area, Ive found few places that really mimic the food quality and scene. There chicken sandwiches are great, especially the Nashville hot. The sauces are great too, I really like the honey chili sauce. On Tuesdays they have Tacos as specials and there chicken taco is amazing! There appetizers are also tasty, my favorite is the Brussels sprouts. I wish they would add it to there regular menu. Its so fresh and very flavorful. As a plus, they also have non-alcoholic mock tails for everyone.\"\"\""
   ]
  },
  {
   "cell_type": "code",
   "execution_count": 2,
   "metadata": {},
   "outputs": [],
   "source": [
    "from transformers import pipeline"
   ]
  },
  {
   "cell_type": "code",
   "execution_count": 3,
   "metadata": {},
   "outputs": [
    {
     "data": {
      "application/vnd.jupyter.widget-view+json": {
       "model_id": "abed868f5b53427d845aa88789f5d8f2",
       "version_major": 2,
       "version_minor": 0
      },
      "text/plain": [
       "HBox(children=(FloatProgress(value=0.0, description='Downloading', max=230.0, style=ProgressStyle(description_…"
      ]
     },
     "metadata": {},
     "output_type": "display_data"
    },
    {
     "name": "stdout",
     "output_type": "stream",
     "text": [
      "\n"
     ]
    }
   ],
   "source": [
    "ts = pipeline(\"summarization\", model=\"t5-large\", tokenizer=\"t5-large\", framework=\"tf\")"
   ]
  },
  {
   "cell_type": "code",
   "execution_count": null,
   "metadata": {},
   "outputs": [
    {
     "name": "stderr",
     "output_type": "stream",
     "text": [
      "Token indices sequence length is longer than the specified maximum sequence length for this model (3314 > 512). Running this sequence through the model will result in indexing errors\n"
     ]
    }
   ],
   "source": [
    "ts(review, min_length=42, clean_up_tokenization_spaces=True, max_length=1024)[0]['summary_text']"
   ]
  },
  {
   "cell_type": "code",
   "execution_count": null,
   "metadata": {},
   "outputs": [],
   "source": []
  }
 ],
 "metadata": {
  "kernelspec": {
   "display_name": "Python 3",
   "language": "python",
   "name": "python3"
  },
  "language_info": {
   "codemirror_mode": {
    "name": "ipython",
    "version": 3
   },
   "file_extension": ".py",
   "mimetype": "text/x-python",
   "name": "python",
   "nbconvert_exporter": "python",
   "pygments_lexer": "ipython3",
   "version": "3.7.6"
  }
 },
 "nbformat": 4,
 "nbformat_minor": 4
}
